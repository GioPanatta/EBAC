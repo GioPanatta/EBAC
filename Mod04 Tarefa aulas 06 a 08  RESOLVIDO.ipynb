{
 "cells": [
  {
   "cell_type": "markdown",
   "metadata": {},
   "source": [
    "# Tarefa 03\n",
    "\n",
    "- Leia os enunciados com atenção\n",
    "- Saiba que pode haver mais de uma resposta correta\n",
    "- Insira novas células de código sempre que achar necessário\n",
    "- Em caso de dúvidas, procure os Tutores\n",
    "- Divirta-se :)"
   ]
  },
  {
   "cell_type": "code",
   "execution_count": 1,
   "metadata": {},
   "outputs": [],
   "source": [
    "import pandas as pd\n",
    "import requests\n",
    "# A biblioteca requests deve de ser importada para utilizar a função get() para a url"
   ]
  },
  {
   "cell_type": "markdown",
   "metadata": {},
   "source": [
    "####  1) Lendo de APIs\n",
    "Vimos em aula como carregar dados públicos do governo através de um API (*Application Programming Interface*). No exemplo de aula, baixamos os dados de pedidos de verificação de limites (PVL) realizados por estados, e selecionamos apenas aqueles referentes ao estado de São Paulo.\n",
    "\n",
    "1. Repita os mesmos passos feitos em aula, mas selecione os PVLs realizados por municípios no estado do Rio de Janeiro.\n",
    "2. Quais são os três *status* das solicitações mais frequentes na base? Quais são suas frequências?\n",
    "3. Construa uma nova variável que contenha o ano do **status**. Observe que ```data_status``` vem como tipo *object* no **DataFrame**. Dica: você pode usar o método ```.str``` para transformar o tipo da variável em string, em seguida um método como [**slice()**](https://pandas.pydata.org/docs/reference/api/pandas.Series.str.slice.html) ou [**split()**](https://pandas.pydata.org/pandas-docs/stable/reference/api/pandas.Series.str.split.html).\n",
    "4. Indique a frequência de cada ano do campo construído no item (3)."
   ]
  },
  {
   "cell_type": "code",
   "execution_count": 12,
   "metadata": {},
   "outputs": [],
   "source": [
    "# 1\n",
    "\n",
    "url = \"https://apidatalake.tesouro.gov.br/ords/sadipem/tt/pvl\"\n",
    "response = requests.get(url)\n",
    "data = response.json()\n",
    "\n",
    "#Extraímos os dados da variável response e atribuindo em formato json na variával data"
   ]
  },
  {
   "cell_type": "markdown",
   "metadata": {},
   "source": [
    "Observaçõs sobre o código abaixo:\n",
    "\n",
    "Quando fazemos uma requisição a uma API, geralmente recebemos os dados em formato JSON. O JSON é uma estrutura de dados que permite organizar informações em pares de chave-valor. No caso específico da API fornecida, os dados estão organizados em formato JSON.\n",
    "\n",
    "Quando acessamos data['items'], estamos referenciando a chave 'items' no dicionário data. Essa chave específica contém a lista de registros que estamos interessados, no caso, os PVLs (Pedidos de Verificação de Limites).\n",
    "\n",
    "Portanto, data['items'] é uma forma de acessar a lista de dicionários que contém os registros dos PVLs retornados pela API. Cada dicionário na lista representa um PVL com várias informações, como 'id_pleito', 'tipo_interessado', 'interessado', 'cod_ibge', 'uf', etc. Ao criar o DataFrame a partir dessa lista de dicionários, cada dicionário se tornará uma linha no DataFrame, e as chaves dos dicionários se tornarão os nomes das colunas do DataFrame.\n",
    "\n",
    "Se os dados estivessem disponíveis em um arquivo CSV (Comma-Separated Values), não precisaríamos acessar a chave 'items' como fizemos para a API JSON."
   ]
  },
  {
   "cell_type": "code",
   "execution_count": 22,
   "metadata": {},
   "outputs": [],
   "source": [
    "df = pd.DataFrame(data['items'])"
   ]
  },
  {
   "cell_type": "code",
   "execution_count": 23,
   "metadata": {},
   "outputs": [
    {
     "data": {
      "text/html": [
       "<div>\n",
       "<style scoped>\n",
       "    .dataframe tbody tr th:only-of-type {\n",
       "        vertical-align: middle;\n",
       "    }\n",
       "\n",
       "    .dataframe tbody tr th {\n",
       "        vertical-align: top;\n",
       "    }\n",
       "\n",
       "    .dataframe thead th {\n",
       "        text-align: right;\n",
       "    }\n",
       "</style>\n",
       "<table border=\"1\" class=\"dataframe\">\n",
       "  <thead>\n",
       "    <tr style=\"text-align: right;\">\n",
       "      <th></th>\n",
       "      <th>id_pleito</th>\n",
       "      <th>tipo_interessado</th>\n",
       "      <th>interessado</th>\n",
       "      <th>cod_ibge</th>\n",
       "      <th>uf</th>\n",
       "      <th>num_pvl</th>\n",
       "      <th>status</th>\n",
       "      <th>num_processo</th>\n",
       "      <th>data_protocolo</th>\n",
       "      <th>tipo_operacao</th>\n",
       "      <th>finalidade</th>\n",
       "      <th>tipo_credor</th>\n",
       "      <th>credor</th>\n",
       "      <th>moeda</th>\n",
       "      <th>valor</th>\n",
       "      <th>pvl_assoc_divida</th>\n",
       "      <th>pvl_contradado_credor</th>\n",
       "      <th>data_status</th>\n",
       "    </tr>\n",
       "  </thead>\n",
       "  <tbody>\n",
       "    <tr>\n",
       "      <th>0</th>\n",
       "      <td>10642</td>\n",
       "      <td>Município</td>\n",
       "      <td>Araricá</td>\n",
       "      <td>4300877</td>\n",
       "      <td>RS</td>\n",
       "      <td>None</td>\n",
       "      <td>Arquivado por decurso de prazo</td>\n",
       "      <td>17944.001250/2011-71</td>\n",
       "      <td>2012-01-20T02:00:00Z</td>\n",
       "      <td>Operação contratual interna</td>\n",
       "      <td>PAC 2 - Pró-Transporte - Pavimentação e Qualif...</td>\n",
       "      <td>Instituição Financeira Nacional</td>\n",
       "      <td>Caixa Econômica Federal</td>\n",
       "      <td>Real</td>\n",
       "      <td>3660000.0</td>\n",
       "      <td>0</td>\n",
       "      <td>0</td>\n",
       "      <td>14/02/2012</td>\n",
       "    </tr>\n",
       "    <tr>\n",
       "      <th>1</th>\n",
       "      <td>11562</td>\n",
       "      <td>Estado</td>\n",
       "      <td>Rio Grande do Sul</td>\n",
       "      <td>43</td>\n",
       "      <td>RS</td>\n",
       "      <td>None</td>\n",
       "      <td>Encaminhado à PGFN com manifestação técnica fa...</td>\n",
       "      <td>17944.001477/2012-05</td>\n",
       "      <td>2014-06-06T03:00:00Z</td>\n",
       "      <td>Operação contratual externa (com garantia da U...</td>\n",
       "      <td>Multissetorial</td>\n",
       "      <td>Instituição Financeira Internacional</td>\n",
       "      <td>Banco Interamericano de Desenvolvimento</td>\n",
       "      <td>Dólar dos EUA</td>\n",
       "      <td>50000000.0</td>\n",
       "      <td>1</td>\n",
       "      <td>0</td>\n",
       "      <td>01/07/2014</td>\n",
       "    </tr>\n",
       "    <tr>\n",
       "      <th>2</th>\n",
       "      <td>11571</td>\n",
       "      <td>Estado</td>\n",
       "      <td>Minas Gerais</td>\n",
       "      <td>31</td>\n",
       "      <td>MG</td>\n",
       "      <td>None</td>\n",
       "      <td>Encaminhado à PGFN com manifestação técnica fa...</td>\n",
       "      <td>17944.001479/2009-91</td>\n",
       "      <td>2010-03-26T03:00:00Z</td>\n",
       "      <td>Operação contratual externa (com garantia da U...</td>\n",
       "      <td>Multissetorial</td>\n",
       "      <td>Instituição Financeira Internacional</td>\n",
       "      <td>Banco Internacional para Reconstrução e Desenv...</td>\n",
       "      <td>Dólar dos EUA</td>\n",
       "      <td>461000000.0</td>\n",
       "      <td>1</td>\n",
       "      <td>0</td>\n",
       "      <td>01/04/2010</td>\n",
       "    </tr>\n",
       "    <tr>\n",
       "      <th>3</th>\n",
       "      <td>13182</td>\n",
       "      <td>Município</td>\n",
       "      <td>São Domingos</td>\n",
       "      <td>4216107</td>\n",
       "      <td>SC</td>\n",
       "      <td>None</td>\n",
       "      <td>Deferido</td>\n",
       "      <td>17944.001947/2014-94</td>\n",
       "      <td>2015-01-15T02:00:00Z</td>\n",
       "      <td>Operação contratual interna</td>\n",
       "      <td>PAC 2 - Pró-Transporte - Pavimentação e Qualif...</td>\n",
       "      <td>Instituição Financeira Nacional</td>\n",
       "      <td>Caixa Econômica Federal</td>\n",
       "      <td>Real</td>\n",
       "      <td>1000000.0</td>\n",
       "      <td>0</td>\n",
       "      <td>0</td>\n",
       "      <td>28/01/2015</td>\n",
       "    </tr>\n",
       "    <tr>\n",
       "      <th>4</th>\n",
       "      <td>13861</td>\n",
       "      <td>Município</td>\n",
       "      <td>Monte Castelo</td>\n",
       "      <td>4211108</td>\n",
       "      <td>SC</td>\n",
       "      <td>None</td>\n",
       "      <td>Deferido</td>\n",
       "      <td>19406.000004/2003-12</td>\n",
       "      <td>2003-01-22T02:00:00Z</td>\n",
       "      <td>Operação contratual interna</td>\n",
       "      <td>Infraestrutura</td>\n",
       "      <td>Instituição Financeira Nacional</td>\n",
       "      <td>Agência de Fomento do Estado de Santa Catarina...</td>\n",
       "      <td>Real</td>\n",
       "      <td>300000.0</td>\n",
       "      <td>0</td>\n",
       "      <td>0</td>\n",
       "      <td>20/02/2003</td>\n",
       "    </tr>\n",
       "    <tr>\n",
       "      <th>...</th>\n",
       "      <td>...</td>\n",
       "      <td>...</td>\n",
       "      <td>...</td>\n",
       "      <td>...</td>\n",
       "      <td>...</td>\n",
       "      <td>...</td>\n",
       "      <td>...</td>\n",
       "      <td>...</td>\n",
       "      <td>...</td>\n",
       "      <td>...</td>\n",
       "      <td>...</td>\n",
       "      <td>...</td>\n",
       "      <td>...</td>\n",
       "      <td>...</td>\n",
       "      <td>...</td>\n",
       "      <td>...</td>\n",
       "      <td>...</td>\n",
       "      <td>...</td>\n",
       "    </tr>\n",
       "    <tr>\n",
       "      <th>4995</th>\n",
       "      <td>45183</td>\n",
       "      <td>Município</td>\n",
       "      <td>Virmond</td>\n",
       "      <td>4128658</td>\n",
       "      <td>PR</td>\n",
       "      <td>PVL02.001054/2021-13</td>\n",
       "      <td>Encaminhado à PGFN com manifestação técnica fa...</td>\n",
       "      <td>17944.102234/2021-76</td>\n",
       "      <td>2021-11-08T17:18:16Z</td>\n",
       "      <td>Operação contratual interna (com garantia da U...</td>\n",
       "      <td>Infraestrutura</td>\n",
       "      <td>Instituição Financeira Nacional</td>\n",
       "      <td>Caixa Econômica Federal</td>\n",
       "      <td>Real</td>\n",
       "      <td>2000000.0</td>\n",
       "      <td>0</td>\n",
       "      <td>1</td>\n",
       "      <td>12/11/2021</td>\n",
       "    </tr>\n",
       "    <tr>\n",
       "      <th>4996</th>\n",
       "      <td>45253</td>\n",
       "      <td>Município</td>\n",
       "      <td>Guapirama</td>\n",
       "      <td>4109005</td>\n",
       "      <td>PR</td>\n",
       "      <td>PVL02.001443/2021-31</td>\n",
       "      <td>Deferido (PVL-IF)</td>\n",
       "      <td>None</td>\n",
       "      <td>None</td>\n",
       "      <td>Operação contratual interna</td>\n",
       "      <td>Aquisição de terrenos, imóveis e/ou construção...</td>\n",
       "      <td>Instituição Financeira Nacional</td>\n",
       "      <td>Agência de Fomento do Paraná S/A</td>\n",
       "      <td>Real</td>\n",
       "      <td>1000000.0</td>\n",
       "      <td>0</td>\n",
       "      <td>1</td>\n",
       "      <td>10/09/2021</td>\n",
       "    </tr>\n",
       "    <tr>\n",
       "      <th>4997</th>\n",
       "      <td>46392</td>\n",
       "      <td>Município</td>\n",
       "      <td>Rio do Prado</td>\n",
       "      <td>3155108</td>\n",
       "      <td>MG</td>\n",
       "      <td>PVL02.002482/2021-55</td>\n",
       "      <td>Deferido (PVL-IF)</td>\n",
       "      <td>None</td>\n",
       "      <td>None</td>\n",
       "      <td>Operação contratual interna</td>\n",
       "      <td>Multissetorial</td>\n",
       "      <td>Instituição Financeira Nacional</td>\n",
       "      <td>Banco de Desenvolvimento de Minas Gerais S/A</td>\n",
       "      <td>Real</td>\n",
       "      <td>361800.0</td>\n",
       "      <td>0</td>\n",
       "      <td>1</td>\n",
       "      <td>28/09/2021</td>\n",
       "    </tr>\n",
       "    <tr>\n",
       "      <th>4998</th>\n",
       "      <td>46431</td>\n",
       "      <td>Município</td>\n",
       "      <td>São José dos Pinhais</td>\n",
       "      <td>4125506</td>\n",
       "      <td>PR</td>\n",
       "      <td>PVL02.000401/2021-82</td>\n",
       "      <td>Deferido</td>\n",
       "      <td>17944.103199/2021-11</td>\n",
       "      <td>2021-09-22T14:48:16Z</td>\n",
       "      <td>Operação contratual interna</td>\n",
       "      <td>Infraestrutura</td>\n",
       "      <td>Instituição Financeira Nacional</td>\n",
       "      <td>Agência de Fomento do Paraná S/A</td>\n",
       "      <td>Real</td>\n",
       "      <td>40000000.0</td>\n",
       "      <td>0</td>\n",
       "      <td>1</td>\n",
       "      <td>23/09/2021</td>\n",
       "    </tr>\n",
       "    <tr>\n",
       "      <th>4999</th>\n",
       "      <td>53709</td>\n",
       "      <td>Município</td>\n",
       "      <td>Salvador</td>\n",
       "      <td>2927408</td>\n",
       "      <td>BA</td>\n",
       "      <td>PVL02.000465/2022-64</td>\n",
       "      <td>Encaminhado à PGFN com manifestação técnica fa...</td>\n",
       "      <td>17944.100521/2022-22</td>\n",
       "      <td>2022-05-03T19:01:13Z</td>\n",
       "      <td>Operação contratual interna (com garantia da U...</td>\n",
       "      <td>Infraestrutura</td>\n",
       "      <td>Instituição Financeira Nacional</td>\n",
       "      <td>Caixa Econômica Federal</td>\n",
       "      <td>Real</td>\n",
       "      <td>100000000.0</td>\n",
       "      <td>0</td>\n",
       "      <td>1</td>\n",
       "      <td>10/05/2022</td>\n",
       "    </tr>\n",
       "  </tbody>\n",
       "</table>\n",
       "<p>5000 rows × 18 columns</p>\n",
       "</div>"
      ],
      "text/plain": [
       "      id_pleito tipo_interessado           interessado  cod_ibge  uf  \\\n",
       "0         10642        Município               Araricá   4300877  RS   \n",
       "1         11562           Estado     Rio Grande do Sul        43  RS   \n",
       "2         11571           Estado          Minas Gerais        31  MG   \n",
       "3         13182        Município          São Domingos   4216107  SC   \n",
       "4         13861        Município         Monte Castelo   4211108  SC   \n",
       "...         ...              ...                   ...       ...  ..   \n",
       "4995      45183        Município               Virmond   4128658  PR   \n",
       "4996      45253        Município             Guapirama   4109005  PR   \n",
       "4997      46392        Município          Rio do Prado   3155108  MG   \n",
       "4998      46431        Município  São José dos Pinhais   4125506  PR   \n",
       "4999      53709        Município              Salvador   2927408  BA   \n",
       "\n",
       "                   num_pvl                                             status  \\\n",
       "0                     None                     Arquivado por decurso de prazo   \n",
       "1                     None  Encaminhado à PGFN com manifestação técnica fa...   \n",
       "2                     None  Encaminhado à PGFN com manifestação técnica fa...   \n",
       "3                     None                                           Deferido   \n",
       "4                     None                                           Deferido   \n",
       "...                    ...                                                ...   \n",
       "4995  PVL02.001054/2021-13  Encaminhado à PGFN com manifestação técnica fa...   \n",
       "4996  PVL02.001443/2021-31                                  Deferido (PVL-IF)   \n",
       "4997  PVL02.002482/2021-55                                  Deferido (PVL-IF)   \n",
       "4998  PVL02.000401/2021-82                                           Deferido   \n",
       "4999  PVL02.000465/2022-64  Encaminhado à PGFN com manifestação técnica fa...   \n",
       "\n",
       "              num_processo        data_protocolo  \\\n",
       "0     17944.001250/2011-71  2012-01-20T02:00:00Z   \n",
       "1     17944.001477/2012-05  2014-06-06T03:00:00Z   \n",
       "2     17944.001479/2009-91  2010-03-26T03:00:00Z   \n",
       "3     17944.001947/2014-94  2015-01-15T02:00:00Z   \n",
       "4     19406.000004/2003-12  2003-01-22T02:00:00Z   \n",
       "...                    ...                   ...   \n",
       "4995  17944.102234/2021-76  2021-11-08T17:18:16Z   \n",
       "4996                  None                  None   \n",
       "4997                  None                  None   \n",
       "4998  17944.103199/2021-11  2021-09-22T14:48:16Z   \n",
       "4999  17944.100521/2022-22  2022-05-03T19:01:13Z   \n",
       "\n",
       "                                          tipo_operacao  \\\n",
       "0                           Operação contratual interna   \n",
       "1     Operação contratual externa (com garantia da U...   \n",
       "2     Operação contratual externa (com garantia da U...   \n",
       "3                           Operação contratual interna   \n",
       "4                           Operação contratual interna   \n",
       "...                                                 ...   \n",
       "4995  Operação contratual interna (com garantia da U...   \n",
       "4996                        Operação contratual interna   \n",
       "4997                        Operação contratual interna   \n",
       "4998                        Operação contratual interna   \n",
       "4999  Operação contratual interna (com garantia da U...   \n",
       "\n",
       "                                             finalidade  \\\n",
       "0     PAC 2 - Pró-Transporte - Pavimentação e Qualif...   \n",
       "1                                        Multissetorial   \n",
       "2                                        Multissetorial   \n",
       "3     PAC 2 - Pró-Transporte - Pavimentação e Qualif...   \n",
       "4                                        Infraestrutura   \n",
       "...                                                 ...   \n",
       "4995                                     Infraestrutura   \n",
       "4996  Aquisição de terrenos, imóveis e/ou construção...   \n",
       "4997                                     Multissetorial   \n",
       "4998                                     Infraestrutura   \n",
       "4999                                     Infraestrutura   \n",
       "\n",
       "                               tipo_credor  \\\n",
       "0          Instituição Financeira Nacional   \n",
       "1     Instituição Financeira Internacional   \n",
       "2     Instituição Financeira Internacional   \n",
       "3          Instituição Financeira Nacional   \n",
       "4          Instituição Financeira Nacional   \n",
       "...                                    ...   \n",
       "4995       Instituição Financeira Nacional   \n",
       "4996       Instituição Financeira Nacional   \n",
       "4997       Instituição Financeira Nacional   \n",
       "4998       Instituição Financeira Nacional   \n",
       "4999       Instituição Financeira Nacional   \n",
       "\n",
       "                                                 credor          moeda  \\\n",
       "0                               Caixa Econômica Federal           Real   \n",
       "1               Banco Interamericano de Desenvolvimento  Dólar dos EUA   \n",
       "2     Banco Internacional para Reconstrução e Desenv...  Dólar dos EUA   \n",
       "3                               Caixa Econômica Federal           Real   \n",
       "4     Agência de Fomento do Estado de Santa Catarina...           Real   \n",
       "...                                                 ...            ...   \n",
       "4995                            Caixa Econômica Federal           Real   \n",
       "4996                   Agência de Fomento do Paraná S/A           Real   \n",
       "4997       Banco de Desenvolvimento de Minas Gerais S/A           Real   \n",
       "4998                   Agência de Fomento do Paraná S/A           Real   \n",
       "4999                            Caixa Econômica Federal           Real   \n",
       "\n",
       "            valor  pvl_assoc_divida  pvl_contradado_credor data_status  \n",
       "0       3660000.0                 0                      0  14/02/2012  \n",
       "1      50000000.0                 1                      0  01/07/2014  \n",
       "2     461000000.0                 1                      0  01/04/2010  \n",
       "3       1000000.0                 0                      0  28/01/2015  \n",
       "4        300000.0                 0                      0  20/02/2003  \n",
       "...           ...               ...                    ...         ...  \n",
       "4995    2000000.0                 0                      1  12/11/2021  \n",
       "4996    1000000.0                 0                      1  10/09/2021  \n",
       "4997     361800.0                 0                      1  28/09/2021  \n",
       "4998   40000000.0                 0                      1  23/09/2021  \n",
       "4999  100000000.0                 0                      1  10/05/2022  \n",
       "\n",
       "[5000 rows x 18 columns]"
      ]
     },
     "execution_count": 23,
     "metadata": {},
     "output_type": "execute_result"
    }
   ],
   "source": [
    "df"
   ]
  },
  {
   "cell_type": "markdown",
   "metadata": {},
   "source": [
    "Criamos um novo DataFrame chamado df_rj_pvl através de uma operação de filtragem. Usamos a coluna 'uf' (unidade federativa) para selecionar apenas os PVLs do estado do Rio de Janeiro (cujo código é 'RJ')."
   ]
  },
  {
   "cell_type": "code",
   "execution_count": 16,
   "metadata": {},
   "outputs": [
    {
     "name": "stdout",
     "output_type": "stream",
     "text": [
      "Index(['id_pleito', 'tipo_interessado', 'interessado', 'cod_ibge', 'uf',\n",
      "       'num_pvl', 'status', 'num_processo', 'data_protocolo', 'tipo_operacao',\n",
      "       'finalidade', 'tipo_credor', 'credor', 'moeda', 'valor',\n",
      "       'pvl_assoc_divida', 'pvl_contradado_credor', 'data_status'],\n",
      "      dtype='object')\n"
     ]
    }
   ],
   "source": [
    "df_rj_pvl = df[df['uf'] == 'RJ']\n",
    "\n",
    "print(df_rj_pvl.columns)"
   ]
  },
  {
   "cell_type": "markdown",
   "metadata": {},
   "source": [
    "Calculamos os três status mais frequentes no DataFrame df_rj_pvl. Utilizamos o método value_counts() para contar a ocorrência de cada valor único na coluna 'status' e, em seguida, o método head(3) para obter os três valores mais frequentes. O resultado é armazenado na variável top_3_status e impresso na tela."
   ]
  },
  {
   "cell_type": "code",
   "execution_count": 17,
   "metadata": {},
   "outputs": [
    {
     "name": "stdout",
     "output_type": "stream",
     "text": [
      "Deferido                                                 25\n",
      "Encaminhado à PGFN com manifestação técnica favorável    17\n",
      "Arquivado                                                13\n",
      "Name: status, dtype: int64\n"
     ]
    }
   ],
   "source": [
    "# 2\n",
    "top_3_status = df_rj_pvl['status'].value_counts().head(3)\n",
    "print(top_3_status)\n"
   ]
  },
  {
   "cell_type": "markdown",
   "metadata": {},
   "source": [
    "Note que os valores mais frequentes são respectivamente:\n",
    "\n",
    "Deferido:                                                 25,\n",
    "Encaminhado à PGFN com manifestação técnica favorável:    17,\n",
    "Arquivado:                                                13"
   ]
  },
  {
   "cell_type": "code",
   "execution_count": 24,
   "metadata": {},
   "outputs": [
    {
     "name": "stdout",
     "output_type": "stream",
     "text": [
      "70     13/07/2010\n",
      "145    20/01/2012\n",
      "230    22/05/2009\n",
      "262    12/01/2007\n",
      "300    27/12/2011\n",
      "325    27/12/2013\n",
      "338    28/08/2008\n",
      "354    27/09/2010\n",
      "558    22/07/2011\n",
      "560    25/03/2015\n",
      "Name: data_status, dtype: object\n"
     ]
    }
   ],
   "source": [
    "#verificando a estrutura da coluna 'data_status'\n",
    "print(df_rj_pvl['data_status'].head(10))"
   ]
  },
  {
   "cell_type": "markdown",
   "metadata": {},
   "source": [
    "utilizamos df_rj_pvl['data_status'].str[-4:] para extrair os 4 últimos caracteres de cada valor na coluna 'data_status', que correspondem ao ano. Essa extração ocorre a partir do índice -4, que representa a quarta posição a partir do final da string.\n"
   ]
  },
  {
   "cell_type": "code",
   "execution_count": 27,
   "metadata": {},
   "outputs": [
    {
     "name": "stderr",
     "output_type": "stream",
     "text": [
      "C:\\Users\\giova\\AppData\\Local\\Temp\\ipykernel_5972\\2209173390.py:2: SettingWithCopyWarning: \n",
      "A value is trying to be set on a copy of a slice from a DataFrame.\n",
      "Try using .loc[row_indexer,col_indexer] = value instead\n",
      "\n",
      "See the caveats in the documentation: https://pandas.pydata.org/pandas-docs/stable/user_guide/indexing.html#returning-a-view-versus-a-copy\n",
      "  df_rj_pvl.loc[:, 'ano_status'] = df_rj_pvl['data_status'].str[-4:]\n"
     ]
    }
   ],
   "source": [
    "\n",
    "# Construir a nova variável com o ano do status usando .loc\n",
    "df_rj_pvl.loc[:, 'ano_status'] = df_rj_pvl['data_status'].str[-4:]"
   ]
  },
  {
   "cell_type": "code",
   "execution_count": 28,
   "metadata": {},
   "outputs": [
    {
     "name": "stdout",
     "output_type": "stream",
     "text": [
      "2007    8\n",
      "2008    8\n",
      "2010    6\n",
      "2019    6\n",
      "2009    6\n",
      "2011    6\n",
      "2013    6\n",
      "2014    6\n",
      "2012    4\n",
      "2023    3\n",
      "2020    2\n",
      "2002    2\n",
      "2022    2\n",
      "2015    2\n",
      "2016    1\n",
      "2017    1\n",
      "2004    1\n",
      "2006    1\n",
      "2018    1\n",
      "2021    1\n",
      "2003    1\n",
      "Name: ano_status, dtype: int64\n"
     ]
    }
   ],
   "source": [
    "# Frequência de cada ano do campo construído\n",
    "freq_ano_status = df_rj_pvl['ano_status'].value_counts()\n",
    "print(freq_ano_status)"
   ]
  },
  {
   "cell_type": "markdown",
   "metadata": {},
   "source": [
    "####  2) Melhorando a interação com o API\n",
    "Observe dois URLs de consultas diferentes, por exemplo o URL utilizado em aula, e o URL feito no exercício anterior. Compare-os e observe as diferenças.\n",
    "\n",
    "1. Faça uma função em Python que recebe como argumento o UF da consulta e o tipo de interessado (```'Estado'```ou ```Município```), e que devolve os dados da consulta no formato *DataFrame*.\n",
    "2. Quantas solicitações para o Estado podem ser consultadas para Minas Gerais com *status* em 'Arquivado por decurso de prazo' estão registradas?\n",
    "3. Qual é o município da Bahia com mais solicitações deferidas?\n",
    "4. Salve um arquivo .csv com os dados de solicitações da Bahia, com interessado = 'Estado'"
   ]
  },
  {
   "cell_type": "markdown",
   "metadata": {},
   "source": [
    "Considerações sobre o código:\n",
    "\n",
    "Definimos a função consulta_api_pvl, que recebe dois argumentos: UF (Unidade Federativa) e tipo_interessado ('Estado' ou 'Município'). Essa função utiliza a biblioteca requests para fazer uma requisição GET à API, passando os parâmetros UF e tipo_interessado na URL da consulta. Os dados retornados são formatados em JSON e, em seguida, são transformados em um DataFrame utilizando a biblioteca pandas. O DataFrame é retornado pela função.\n",
    "\n",
    "Com a função consulta_api_pvl, podemos realizar diferentes consultas aos PVLs com base no estado (UF) e tipo de interessado (Estado ou Município).\n",
    "\n",
    "Os exemplos de uso da função ilustram algumas consultas específicas:\n",
    "\n",
    "Contar o número de solicitações para o Estado de Minas Gerais com status 'Arquivado por decurso de prazo'. Para isso, utilizamos a função consulta_api_pvl com UF=\"MG\" e tipo_interessado=\"Estado\", filtramos os resultados para obter apenas as solicitações com esse status e contamos o número de ocorrências.\n",
    "\n",
    "Identificar o município na Bahia com mais solicitações deferidas. Nesse caso, utilizamos a função consulta_api_pvl com UF=\"BA\" e tipo_interessado=\"Município\". Em seguida, usamos o método value_counts() para contar o número de solicitações para cada município e idxmax() para obter o município com o maior número de solicitações deferidas.\n",
    "\n",
    "Salvar os dados de solicitações da Bahia com interessado = 'Estado' em um arquivo .csv. Utilizamos novamente a função consulta_api_pvl com UF=\"BA\" e tipo_interessado=\"Estado\", obtendo os resultados, e salvamos o DataFrame em um arquivo .csv utilizando o método to_csv()."
   ]
  },
  {
   "cell_type": "code",
   "execution_count": 31,
   "metadata": {},
   "outputs": [],
   "source": [
    "# Função para consultar a API e retornar os dados em formato DataFrame\n",
    "def consulta_api_pvl(UF, tipo_interessado):\n",
    "    base_url = \"https://apidatalake.tesouro.gov.br/ords/sadipem/tt/pvl\"\n",
    "    params = {\n",
    "        \"uf\": UF,\n",
    "        \"tipo_interessado\": tipo_interessado\n",
    "    }\n",
    "    response = requests.get(base_url, params=params)\n",
    "    data = response.json()\n",
    "    df = pd.DataFrame(data['items'])\n",
    "    return df"
   ]
  },
  {
   "cell_type": "code",
   "execution_count": 32,
   "metadata": {},
   "outputs": [
    {
     "name": "stdout",
     "output_type": "stream",
     "text": [
      "1\n"
     ]
    }
   ],
   "source": [
    "#Contar solicitações do Estado de Minas Gerais com status 'Arquivado por decurso de prazo'\n",
    "df_mg_estado = consulta_api_pvl(UF=\"MG\", tipo_interessado=\"Estado\")\n",
    "df_mg_arquivado = df_mg_estado[df_mg_estado['status'] == 'Arquivado por decurso de prazo']\n",
    "print(df_mg_arquivado.shape[0])\n"
   ]
  },
  {
   "cell_type": "code",
   "execution_count": 33,
   "metadata": {},
   "outputs": [
    {
     "name": "stdout",
     "output_type": "stream",
     "text": [
      "Camaçari\n"
     ]
    }
   ],
   "source": [
    "#Identificar o município na Bahia com mais solicitações deferidas\n",
    "df_bahia_municipio = consulta_api_pvl(UF=\"BA\", tipo_interessado=\"Município\")\n",
    "municipio_mais_deferidas = df_bahia_municipio['interessado'].value_counts().idxmax()\n",
    "print(municipio_mais_deferidas)\n"
   ]
  },
  {
   "cell_type": "code",
   "execution_count": 34,
   "metadata": {},
   "outputs": [],
   "source": [
    "# Salvar os dados de solicitações da Bahia com interessado = 'Estado' em um arquivo .csv\n",
    "df_bahia_estado = consulta_api_pvl(UF=\"BA\", tipo_interessado=\"Estado\")\n",
    "df_bahia_estado.to_csv(\"solicitacoes_bahia_estado.csv\", index=False)"
   ]
  },
  {
   "cell_type": "markdown",
   "metadata": {},
   "source": []
  }
 ],
 "metadata": {
  "kernelspec": {
   "display_name": "Python 3 (ipykernel)",
   "language": "python",
   "name": "python3"
  },
  "language_info": {
   "codemirror_mode": {
    "name": "ipython",
    "version": 3
   },
   "file_extension": ".py",
   "mimetype": "text/x-python",
   "name": "python",
   "nbconvert_exporter": "python",
   "pygments_lexer": "ipython3",
   "version": "3.10.9"
  }
 },
 "nbformat": 4,
 "nbformat_minor": 4
}
