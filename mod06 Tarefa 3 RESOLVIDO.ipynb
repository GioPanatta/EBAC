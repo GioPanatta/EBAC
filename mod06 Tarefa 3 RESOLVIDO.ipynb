{
 "cells": [
  {
   "cell_type": "markdown",
   "metadata": {},
   "source": [
    "# Módulo 6 tarefa 3\n",
    "\n",
    "#### 1) A base 'sinasc_RO_2019.csv' contém dados do sistema de nascidos vivos do DataSUS, cujo dicionário de dados está no arquivo 'Estrutura_SINASC_para_CD.pdf'. Carregue esse arquivo."
   ]
  },
  {
   "cell_type": "code",
   "execution_count": 135,
   "metadata": {},
   "outputs": [],
   "source": [
    "import pandas as pd\n",
    "import numpy as np\n",
    "import matplotlib.pyplot as plt\n",
    "import seaborn as sns"
   ]
  },
  {
   "cell_type": "code",
   "execution_count": 136,
   "metadata": {},
   "outputs": [],
   "source": [
    "df = pd.read_csv('sinasc_2019.csv')\n"
   ]
  },
  {
   "cell_type": "code",
   "execution_count": 137,
   "metadata": {},
   "outputs": [
    {
     "data": {
      "text/html": [
       "<div>\n",
       "<style scoped>\n",
       "    .dataframe tbody tr th:only-of-type {\n",
       "        vertical-align: middle;\n",
       "    }\n",
       "\n",
       "    .dataframe tbody tr th {\n",
       "        vertical-align: top;\n",
       "    }\n",
       "\n",
       "    .dataframe thead th {\n",
       "        text-align: right;\n",
       "    }\n",
       "</style>\n",
       "<table border=\"1\" class=\"dataframe\">\n",
       "  <thead>\n",
       "    <tr style=\"text-align: right;\">\n",
       "      <th></th>\n",
       "      <th>ORIGEM</th>\n",
       "      <th>CODESTAB</th>\n",
       "      <th>CODMUNNASC</th>\n",
       "      <th>LOCNASC</th>\n",
       "      <th>IDADEMAE</th>\n",
       "      <th>ESTCIVMAE</th>\n",
       "      <th>ESCMAE</th>\n",
       "      <th>CODOCUPMAE</th>\n",
       "      <th>QTDFILVIVO</th>\n",
       "      <th>QTDFILMORT</th>\n",
       "      <th>...</th>\n",
       "      <th>KOTELCHUCK</th>\n",
       "      <th>CONTADOR</th>\n",
       "      <th>munResStatus</th>\n",
       "      <th>munResTipo</th>\n",
       "      <th>munResNome</th>\n",
       "      <th>munResUf</th>\n",
       "      <th>munResLat</th>\n",
       "      <th>munResLon</th>\n",
       "      <th>munResAlt</th>\n",
       "      <th>munResArea</th>\n",
       "    </tr>\n",
       "  </thead>\n",
       "  <tbody>\n",
       "    <tr>\n",
       "      <th>0</th>\n",
       "      <td>1</td>\n",
       "      <td>2679477.0</td>\n",
       "      <td>110001</td>\n",
       "      <td>1</td>\n",
       "      <td>19</td>\n",
       "      <td>5.0</td>\n",
       "      <td>8 a 11 anos</td>\n",
       "      <td>NaN</td>\n",
       "      <td>0.0</td>\n",
       "      <td>0.0</td>\n",
       "      <td>...</td>\n",
       "      <td>5</td>\n",
       "      <td>1</td>\n",
       "      <td>ATIVO</td>\n",
       "      <td>MUNIC</td>\n",
       "      <td>Alta Floresta D'Oeste</td>\n",
       "      <td>Rondônia</td>\n",
       "      <td>-11.93554</td>\n",
       "      <td>-61.99982</td>\n",
       "      <td>338.0</td>\n",
       "      <td>7067.025</td>\n",
       "    </tr>\n",
       "    <tr>\n",
       "      <th>1</th>\n",
       "      <td>1</td>\n",
       "      <td>2679477.0</td>\n",
       "      <td>110001</td>\n",
       "      <td>1</td>\n",
       "      <td>29</td>\n",
       "      <td>2.0</td>\n",
       "      <td>8 a 11 anos</td>\n",
       "      <td>999992.0</td>\n",
       "      <td>1.0</td>\n",
       "      <td>0.0</td>\n",
       "      <td>...</td>\n",
       "      <td>5</td>\n",
       "      <td>2</td>\n",
       "      <td>ATIVO</td>\n",
       "      <td>MUNIC</td>\n",
       "      <td>Alta Floresta D'Oeste</td>\n",
       "      <td>Rondônia</td>\n",
       "      <td>-11.93554</td>\n",
       "      <td>-61.99982</td>\n",
       "      <td>338.0</td>\n",
       "      <td>7067.025</td>\n",
       "    </tr>\n",
       "    <tr>\n",
       "      <th>2</th>\n",
       "      <td>1</td>\n",
       "      <td>2679477.0</td>\n",
       "      <td>110001</td>\n",
       "      <td>1</td>\n",
       "      <td>37</td>\n",
       "      <td>9.0</td>\n",
       "      <td>8 a 11 anos</td>\n",
       "      <td>513205.0</td>\n",
       "      <td>2.0</td>\n",
       "      <td>0.0</td>\n",
       "      <td>...</td>\n",
       "      <td>5</td>\n",
       "      <td>3</td>\n",
       "      <td>ATIVO</td>\n",
       "      <td>MUNIC</td>\n",
       "      <td>Alta Floresta D'Oeste</td>\n",
       "      <td>Rondônia</td>\n",
       "      <td>-11.93554</td>\n",
       "      <td>-61.99982</td>\n",
       "      <td>338.0</td>\n",
       "      <td>7067.025</td>\n",
       "    </tr>\n",
       "    <tr>\n",
       "      <th>3</th>\n",
       "      <td>1</td>\n",
       "      <td>2516500.0</td>\n",
       "      <td>110001</td>\n",
       "      <td>1</td>\n",
       "      <td>30</td>\n",
       "      <td>5.0</td>\n",
       "      <td>12 anos ou mais</td>\n",
       "      <td>231205.0</td>\n",
       "      <td>0.0</td>\n",
       "      <td>0.0</td>\n",
       "      <td>...</td>\n",
       "      <td>4</td>\n",
       "      <td>4</td>\n",
       "      <td>ATIVO</td>\n",
       "      <td>MUNIC</td>\n",
       "      <td>Alto Alegre dos Parecis</td>\n",
       "      <td>Rondônia</td>\n",
       "      <td>-12.13178</td>\n",
       "      <td>-61.85308</td>\n",
       "      <td>397.0</td>\n",
       "      <td>3958.273</td>\n",
       "    </tr>\n",
       "    <tr>\n",
       "      <th>4</th>\n",
       "      <td>1</td>\n",
       "      <td>2516500.0</td>\n",
       "      <td>110001</td>\n",
       "      <td>1</td>\n",
       "      <td>30</td>\n",
       "      <td>2.0</td>\n",
       "      <td>8 a 11 anos</td>\n",
       "      <td>999992.0</td>\n",
       "      <td>1.0</td>\n",
       "      <td>0.0</td>\n",
       "      <td>...</td>\n",
       "      <td>5</td>\n",
       "      <td>5</td>\n",
       "      <td>ATIVO</td>\n",
       "      <td>MUNIC</td>\n",
       "      <td>Alta Floresta D'Oeste</td>\n",
       "      <td>Rondônia</td>\n",
       "      <td>-11.93554</td>\n",
       "      <td>-61.99982</td>\n",
       "      <td>338.0</td>\n",
       "      <td>7067.025</td>\n",
       "    </tr>\n",
       "  </tbody>\n",
       "</table>\n",
       "<p>5 rows × 69 columns</p>\n",
       "</div>"
      ],
      "text/plain": [
       "   ORIGEM   CODESTAB  CODMUNNASC  LOCNASC  IDADEMAE  ESTCIVMAE  \\\n",
       "0       1  2679477.0      110001        1        19        5.0   \n",
       "1       1  2679477.0      110001        1        29        2.0   \n",
       "2       1  2679477.0      110001        1        37        9.0   \n",
       "3       1  2516500.0      110001        1        30        5.0   \n",
       "4       1  2516500.0      110001        1        30        2.0   \n",
       "\n",
       "            ESCMAE  CODOCUPMAE  QTDFILVIVO  QTDFILMORT  ...  KOTELCHUCK  \\\n",
       "0      8 a 11 anos         NaN         0.0         0.0  ...           5   \n",
       "1      8 a 11 anos    999992.0         1.0         0.0  ...           5   \n",
       "2      8 a 11 anos    513205.0         2.0         0.0  ...           5   \n",
       "3  12 anos ou mais    231205.0         0.0         0.0  ...           4   \n",
       "4      8 a 11 anos    999992.0         1.0         0.0  ...           5   \n",
       "\n",
       "  CONTADOR munResStatus munResTipo               munResNome  munResUf  \\\n",
       "0        1        ATIVO      MUNIC    Alta Floresta D'Oeste  Rondônia   \n",
       "1        2        ATIVO      MUNIC    Alta Floresta D'Oeste  Rondônia   \n",
       "2        3        ATIVO      MUNIC    Alta Floresta D'Oeste  Rondônia   \n",
       "3        4        ATIVO      MUNIC  Alto Alegre dos Parecis  Rondônia   \n",
       "4        5        ATIVO      MUNIC    Alta Floresta D'Oeste  Rondônia   \n",
       "\n",
       "   munResLat munResLon  munResAlt  munResArea  \n",
       "0  -11.93554 -61.99982      338.0    7067.025  \n",
       "1  -11.93554 -61.99982      338.0    7067.025  \n",
       "2  -11.93554 -61.99982      338.0    7067.025  \n",
       "3  -12.13178 -61.85308      397.0    3958.273  \n",
       "4  -11.93554 -61.99982      338.0    7067.025  \n",
       "\n",
       "[5 rows x 69 columns]"
      ]
     },
     "execution_count": 137,
     "metadata": {},
     "output_type": "execute_result"
    }
   ],
   "source": [
    "df.head()"
   ]
  },
  {
   "cell_type": "code",
   "execution_count": 206,
   "metadata": {},
   "outputs": [
    {
     "data": {
      "text/plain": [
       "Index(['ORIGEM', 'CODESTAB', 'CODMUNNASC', 'LOCNASC', 'IDADEMAE', 'ESTCIVMAE',\n",
       "       'ESCMAE', 'CODOCUPMAE', 'QTDFILVIVO', 'QTDFILMORT', 'CODMUNRES',\n",
       "       'GESTACAO', 'GRAVIDEZ', 'PARTO', 'CONSULTAS', 'DTNASC', 'HORANASC',\n",
       "       'SEXO', 'APGAR1', 'APGAR5', 'RACACOR', 'PESO', 'IDANOMAL', 'DTCADASTRO',\n",
       "       'CODANOMAL', 'NUMEROLOTE', 'VERSAOSIST', 'DTRECEBIM', 'DIFDATA',\n",
       "       'DTRECORIGA', 'NATURALMAE', 'CODMUNNATU', 'CODUFNATU', 'ESCMAE2010',\n",
       "       'SERIESCMAE', 'DTNASCMAE', 'RACACORMAE', 'QTDGESTANT', 'QTDPARTNOR',\n",
       "       'QTDPARTCES', 'IDADEPAI', 'DTULTMENST', 'SEMAGESTAC', 'TPMETESTIM',\n",
       "       'CONSPRENAT', 'MESPRENAT', 'TPAPRESENT', 'STTRABPART', 'STCESPARTO',\n",
       "       'TPNASCASSI', 'TPFUNCRESP', 'TPDOCRESP', 'DTDECLARAC', 'ESCMAEAGR1',\n",
       "       'STDNEPIDEM', 'STDNNOVA', 'CODPAISRES', 'TPROBSON', 'PARIDADE',\n",
       "       'KOTELCHUCK', 'CONTADOR', 'munResStatus', 'munResTipo', 'munResNome',\n",
       "       'munResUf', 'munResLat', 'munResLon', 'munResAlt', 'munResArea',\n",
       "       'tp_asfixia'],\n",
       "      dtype='object')"
      ]
     },
     "execution_count": 206,
     "metadata": {},
     "output_type": "execute_result"
    }
   ],
   "source": [
    "df.columns"
   ]
  },
  {
   "cell_type": "markdown",
   "metadata": {},
   "source": [
    "Observação: optei por alterar o atributo'Menos de 22 semanas' para '21 semanas ou menos' na coluna GESTACAO, por entender que seja uma sintaxe mais clara no contexto desta análise, além disso, o peso da ordem alfabética retornará uma sequência de valores mais adequada. "
   ]
  },
  {
   "cell_type": "code",
   "execution_count": 144,
   "metadata": {},
   "outputs": [],
   "source": [
    "\n",
    "df.loc[df['GESTACAO'] == 'Menos de 22 semanas', 'GESTACAO'] = '21 semanas ou menos'\n"
   ]
  },
  {
   "cell_type": "code",
   "execution_count": 145,
   "metadata": {},
   "outputs": [
    {
     "data": {
      "text/plain": [
       "37 a 41 semanas        22589\n",
       "32 a 36 semanas         2249\n",
       "42 semanas e mais        700\n",
       "28 a 31 semanas          165\n",
       "22 a 27 semanas           86\n",
       "21 semanas ou menos        7\n",
       "Name: GESTACAO, dtype: int64"
      ]
     },
     "execution_count": 145,
     "metadata": {},
     "output_type": "execute_result"
    }
   ],
   "source": [
    "df['GESTACAO'].value_counts()"
   ]
  },
  {
   "cell_type": "markdown",
   "metadata": {},
   "source": [
    "#### 2) Categorize a variável APGAR5 conforme as seguintes quebras:\n",
    "\n",
    "- 0 a 3: 'asfixia grave'\n",
    "- 4 a 5: 'asfixia moderada'\n",
    "- 6 a 7: 'asfixia leve'\n",
    "- 8 a 10: 'normal'"
   ]
  },
  {
   "cell_type": "code",
   "execution_count": 146,
   "metadata": {},
   "outputs": [
    {
     "data": {
      "text/plain": [
       "103"
      ]
     },
     "execution_count": 146,
     "metadata": {},
     "output_type": "execute_result"
    }
   ],
   "source": [
    "df['APGAR5'].isnull().sum() #somando os valores nulos"
   ]
  },
  {
   "cell_type": "code",
   "execution_count": 147,
   "metadata": {},
   "outputs": [],
   "source": [
    "df = df.dropna(subset=['APGAR5']) #usando o método subset para dropar valores duplicados de uma coluna específica"
   ]
  },
  {
   "cell_type": "code",
   "execution_count": 148,
   "metadata": {},
   "outputs": [
    {
     "data": {
      "text/plain": [
       "0"
      ]
     },
     "execution_count": 148,
     "metadata": {},
     "output_type": "execute_result"
    }
   ],
   "source": [
    "df['APGAR5'].isnull().sum() #verificando novamente valores nulos = 0"
   ]
  },
  {
   "cell_type": "code",
   "execution_count": 149,
   "metadata": {},
   "outputs": [],
   "source": [
    "#Construindo uma categorização conforme as faixas de APGAR\n",
    "\n",
    "\n",
    "df.loc[(df[\"APGAR5\"] >= 8) & (df[\"APGAR5\"] <= 10), \"tp_asfixia\"] = \"normal\"\n",
    "df.loc[(df[\"APGAR5\"] >= 6) & (df[\"APGAR5\"] <= 7), \"tp_asfixia\"] = \"asfixia leve\"\n",
    "df.loc[(df[\"APGAR5\"] >= 4) & (df[\"APGAR5\"] <= 5), \"tp_asfixia\"] = \"asfixia moderada\"\n",
    "df.loc[(df[\"APGAR5\"] >= 0) & (df[\"APGAR5\"] <= 3), \"tp_asfixia\"] = \"asfixia severa\"\n",
    "\n",
    "#lembre-se de utilizar o loc e os parenteses entre o operador booleano &."
   ]
  },
  {
   "cell_type": "code",
   "execution_count": 150,
   "metadata": {},
   "outputs": [
    {
     "data": {
      "text/plain": [
       "9.0     16076\n",
       "10.0     8393\n",
       "8.0      1994\n",
       "7.0       241\n",
       "6.0        79\n",
       "5.0        45\n",
       "1.0        24\n",
       "4.0        23\n",
       "2.0        18\n",
       "0.0        17\n",
       "3.0        15\n",
       "Name: APGAR5, dtype: int64"
      ]
     },
     "execution_count": 150,
     "metadata": {},
     "output_type": "execute_result"
    }
   ],
   "source": [
    "df['APGAR5'].value_counts()"
   ]
  },
  {
   "cell_type": "code",
   "execution_count": 151,
   "metadata": {},
   "outputs": [
    {
     "data": {
      "text/plain": [
       "37 a 41 semanas        22523\n",
       "32 a 36 semanas         2234\n",
       "42 semanas e mais        698\n",
       "28 a 31 semanas          162\n",
       "22 a 27 semanas           85\n",
       "21 semanas ou menos        7\n",
       "Name: GESTACAO, dtype: int64"
      ]
     },
     "execution_count": 151,
     "metadata": {},
     "output_type": "execute_result"
    }
   ],
   "source": [
    "df['GESTACAO'].value_counts()"
   ]
  },
  {
   "cell_type": "markdown",
   "metadata": {},
   "source": [
    "#### 3) Monte um gráfico comparando a distribuição de APGAR5 por sexo para cada grupo de tempo de gestação (GESTACAO)."
   ]
  },
  {
   "cell_type": "markdown",
   "metadata": {},
   "source": [
    "O conjunto de dados apresenta uma quantidade de tempo de gestação muito mais expressiva entre as faixas de 37 a 42/mais semanas. Isso indica maiores registros de gestações/nascimentos dentro da faixa da normalidade humana (40 semanas).\n",
    "\n",
    "O gráfico abaixo indica que nascimentos com APGAR considerados anormais (entre a faixa de 0 a 7) estão diretamente relacionados à gestações mais curtas (nascimentos prematuros). Destes, pela base dedados: com menos de 22 semanas de gestação há apenas nascimentos do sexo feminino e entre 22 a 27 semanas: um número expressivamente maior do sexo masculino.\n"
   ]
  },
  {
   "cell_type": "code",
   "execution_count": 152,
   "metadata": {},
   "outputs": [
    {
     "data": {
      "image/png": "[encoded data removed]",
      "text/plain": [
       "<Figure size 640x480 with 1 Axes>"
      ]
     },
     "metadata": {},
     "output_type": "display_data"
    }
   ],
   "source": [
    "sns.boxplot(x='APGAR5', y='GESTACAO', hue='SEXO', data=df);\n",
    "\n",
    "#eixo x recebe a coluna APGAR5 com os valores categorizados entre 0 a 10\n",
    "#eixo y recebe a coluna GESTACAO referente com dados do número de semanas de gravidez\n",
    "# a função hue irá subvidivir as informações pela variável SEXO (MASCULINO ou FEMININO)\n",
    "#todas essas informações serão retiradas do df a partir da função data\n",
    "\n"
   ]
  },
  {
   "cell_type": "markdown",
   "metadata": {},
   "source": [
    "####  4) Monte uma tabela cruzada com APGAR5 nas colunas e GESTACAO nas linhas"
   ]
  },
  {
   "cell_type": "code",
   "execution_count": 153,
   "metadata": {},
   "outputs": [],
   "source": [
    "cruzada = pd.crosstab(index=df['GESTACAO'], columns=df['APGAR5'])\n",
    "\n",
    "#No método crosstab, neste exeplo, a coluna gestação são transformadas em indices e a APGAR5 em colunas que variam de 0.0 a 10.0"
   ]
  },
  {
   "cell_type": "code",
   "execution_count": 154,
   "metadata": {},
   "outputs": [
    {
     "data": {
      "text/html": [
       "<div>\n",
       "<style scoped>\n",
       "    .dataframe tbody tr th:only-of-type {\n",
       "        vertical-align: middle;\n",
       "    }\n",
       "\n",
       "    .dataframe tbody tr th {\n",
       "        vertical-align: top;\n",
       "    }\n",
       "\n",
       "    .dataframe thead th {\n",
       "        text-align: right;\n",
       "    }\n",
       "</style>\n",
       "<table border=\"1\" class=\"dataframe\">\n",
       "  <thead>\n",
       "    <tr style=\"text-align: right;\">\n",
       "      <th>APGAR5</th>\n",
       "      <th>0.0</th>\n",
       "      <th>1.0</th>\n",
       "      <th>2.0</th>\n",
       "      <th>3.0</th>\n",
       "      <th>4.0</th>\n",
       "      <th>5.0</th>\n",
       "      <th>6.0</th>\n",
       "      <th>7.0</th>\n",
       "      <th>8.0</th>\n",
       "      <th>9.0</th>\n",
       "      <th>10.0</th>\n",
       "    </tr>\n",
       "    <tr>\n",
       "      <th>GESTACAO</th>\n",
       "      <th></th>\n",
       "      <th></th>\n",
       "      <th></th>\n",
       "      <th></th>\n",
       "      <th></th>\n",
       "      <th></th>\n",
       "      <th></th>\n",
       "      <th></th>\n",
       "      <th></th>\n",
       "      <th></th>\n",
       "      <th></th>\n",
       "    </tr>\n",
       "  </thead>\n",
       "  <tbody>\n",
       "    <tr>\n",
       "      <th>21 semanas ou menos</th>\n",
       "      <td>1</td>\n",
       "      <td>0</td>\n",
       "      <td>1</td>\n",
       "      <td>0</td>\n",
       "      <td>0</td>\n",
       "      <td>0</td>\n",
       "      <td>0</td>\n",
       "      <td>1</td>\n",
       "      <td>0</td>\n",
       "      <td>3</td>\n",
       "      <td>1</td>\n",
       "    </tr>\n",
       "    <tr>\n",
       "      <th>22 a 27 semanas</th>\n",
       "      <td>7</td>\n",
       "      <td>0</td>\n",
       "      <td>8</td>\n",
       "      <td>6</td>\n",
       "      <td>1</td>\n",
       "      <td>0</td>\n",
       "      <td>2</td>\n",
       "      <td>10</td>\n",
       "      <td>24</td>\n",
       "      <td>19</td>\n",
       "      <td>8</td>\n",
       "    </tr>\n",
       "    <tr>\n",
       "      <th>28 a 31 semanas</th>\n",
       "      <td>0</td>\n",
       "      <td>0</td>\n",
       "      <td>2</td>\n",
       "      <td>1</td>\n",
       "      <td>5</td>\n",
       "      <td>7</td>\n",
       "      <td>7</td>\n",
       "      <td>11</td>\n",
       "      <td>61</td>\n",
       "      <td>55</td>\n",
       "      <td>13</td>\n",
       "    </tr>\n",
       "    <tr>\n",
       "      <th>32 a 36 semanas</th>\n",
       "      <td>2</td>\n",
       "      <td>2</td>\n",
       "      <td>2</td>\n",
       "      <td>2</td>\n",
       "      <td>8</td>\n",
       "      <td>11</td>\n",
       "      <td>17</td>\n",
       "      <td>56</td>\n",
       "      <td>362</td>\n",
       "      <td>1307</td>\n",
       "      <td>465</td>\n",
       "    </tr>\n",
       "    <tr>\n",
       "      <th>37 a 41 semanas</th>\n",
       "      <td>5</td>\n",
       "      <td>20</td>\n",
       "      <td>3</td>\n",
       "      <td>5</td>\n",
       "      <td>7</td>\n",
       "      <td>21</td>\n",
       "      <td>45</td>\n",
       "      <td>151</td>\n",
       "      <td>1417</td>\n",
       "      <td>13565</td>\n",
       "      <td>7284</td>\n",
       "    </tr>\n",
       "    <tr>\n",
       "      <th>42 semanas e mais</th>\n",
       "      <td>1</td>\n",
       "      <td>0</td>\n",
       "      <td>0</td>\n",
       "      <td>0</td>\n",
       "      <td>0</td>\n",
       "      <td>1</td>\n",
       "      <td>1</td>\n",
       "      <td>5</td>\n",
       "      <td>44</td>\n",
       "      <td>423</td>\n",
       "      <td>223</td>\n",
       "    </tr>\n",
       "  </tbody>\n",
       "</table>\n",
       "</div>"
      ],
      "text/plain": [
       "APGAR5               0.0   1.0   2.0   3.0   4.0   5.0   6.0   7.0   8.0   \\\n",
       "GESTACAO                                                                    \n",
       "21 semanas ou menos     1     0     1     0     0     0     0     1     0   \n",
       "22 a 27 semanas         7     0     8     6     1     0     2    10    24   \n",
       "28 a 31 semanas         0     0     2     1     5     7     7    11    61   \n",
       "32 a 36 semanas         2     2     2     2     8    11    17    56   362   \n",
       "37 a 41 semanas         5    20     3     5     7    21    45   151  1417   \n",
       "42 semanas e mais       1     0     0     0     0     1     1     5    44   \n",
       "\n",
       "APGAR5                9.0   10.0  \n",
       "GESTACAO                          \n",
       "21 semanas ou menos      3     1  \n",
       "22 a 27 semanas         19     8  \n",
       "28 a 31 semanas         55    13  \n",
       "32 a 36 semanas       1307   465  \n",
       "37 a 41 semanas      13565  7284  \n",
       "42 semanas e mais      423   223  "
      ]
     },
     "execution_count": 154,
     "metadata": {},
     "output_type": "execute_result"
    }
   ],
   "source": [
    "cruzada"
   ]
  },
  {
   "cell_type": "markdown",
   "metadata": {},
   "source": [
    "####  5) Da tabela cruzada do intem anterior, calcule os percentuais de linha. Ou seja, a distribuição da variável APGAR5 para cada classe de GESTACAO dado."
   ]
  },
  {
   "cell_type": "code",
   "execution_count": 155,
   "metadata": {},
   "outputs": [],
   "source": [
    "pct = cruzada.apply(lambda x: x / x.sum() * 100, axis=1)\n",
    "\n",
    "#o método appply é usado para aplicar a função lambda em cada linha da tabela \"cruzada\"\n",
    "#a expressão lambda recebe uma linha x.\n",
    "# a linha x será dividida pela expressão x.sum() *100, ou seja...\n",
    "#a soma de todos os elementos da linha multiplicados por 100 no eixo1 (horizontal)\n",
    "\n",
    "#df.apply(lambda row: funcao_personalizada(row), axis=1)"
   ]
  },
  {
   "cell_type": "code",
   "execution_count": 156,
   "metadata": {},
   "outputs": [
    {
     "data": {
      "text/html": [
       "<div>\n",
       "<style scoped>\n",
       "    .dataframe tbody tr th:only-of-type {\n",
       "        vertical-align: middle;\n",
       "    }\n",
       "\n",
       "    .dataframe tbody tr th {\n",
       "        vertical-align: top;\n",
       "    }\n",
       "\n",
       "    .dataframe thead th {\n",
       "        text-align: right;\n",
       "    }\n",
       "</style>\n",
       "<table border=\"1\" class=\"dataframe\">\n",
       "  <thead>\n",
       "    <tr style=\"text-align: right;\">\n",
       "      <th>APGAR5</th>\n",
       "      <th>0.0</th>\n",
       "      <th>1.0</th>\n",
       "      <th>2.0</th>\n",
       "      <th>3.0</th>\n",
       "      <th>4.0</th>\n",
       "      <th>5.0</th>\n",
       "      <th>6.0</th>\n",
       "      <th>7.0</th>\n",
       "      <th>8.0</th>\n",
       "      <th>9.0</th>\n",
       "      <th>10.0</th>\n",
       "    </tr>\n",
       "    <tr>\n",
       "      <th>GESTACAO</th>\n",
       "      <th></th>\n",
       "      <th></th>\n",
       "      <th></th>\n",
       "      <th></th>\n",
       "      <th></th>\n",
       "      <th></th>\n",
       "      <th></th>\n",
       "      <th></th>\n",
       "      <th></th>\n",
       "      <th></th>\n",
       "      <th></th>\n",
       "    </tr>\n",
       "  </thead>\n",
       "  <tbody>\n",
       "    <tr>\n",
       "      <th>21 semanas ou menos</th>\n",
       "      <td>14.285714</td>\n",
       "      <td>0.000000</td>\n",
       "      <td>14.285714</td>\n",
       "      <td>0.000000</td>\n",
       "      <td>0.000000</td>\n",
       "      <td>0.000000</td>\n",
       "      <td>0.000000</td>\n",
       "      <td>14.285714</td>\n",
       "      <td>0.000000</td>\n",
       "      <td>42.857143</td>\n",
       "      <td>14.285714</td>\n",
       "    </tr>\n",
       "    <tr>\n",
       "      <th>22 a 27 semanas</th>\n",
       "      <td>8.235294</td>\n",
       "      <td>0.000000</td>\n",
       "      <td>9.411765</td>\n",
       "      <td>7.058824</td>\n",
       "      <td>1.176471</td>\n",
       "      <td>0.000000</td>\n",
       "      <td>2.352941</td>\n",
       "      <td>11.764706</td>\n",
       "      <td>28.235294</td>\n",
       "      <td>22.352941</td>\n",
       "      <td>9.411765</td>\n",
       "    </tr>\n",
       "    <tr>\n",
       "      <th>28 a 31 semanas</th>\n",
       "      <td>0.000000</td>\n",
       "      <td>0.000000</td>\n",
       "      <td>1.234568</td>\n",
       "      <td>0.617284</td>\n",
       "      <td>3.086420</td>\n",
       "      <td>4.320988</td>\n",
       "      <td>4.320988</td>\n",
       "      <td>6.790123</td>\n",
       "      <td>37.654321</td>\n",
       "      <td>33.950617</td>\n",
       "      <td>8.024691</td>\n",
       "    </tr>\n",
       "    <tr>\n",
       "      <th>32 a 36 semanas</th>\n",
       "      <td>0.089526</td>\n",
       "      <td>0.089526</td>\n",
       "      <td>0.089526</td>\n",
       "      <td>0.089526</td>\n",
       "      <td>0.358102</td>\n",
       "      <td>0.492390</td>\n",
       "      <td>0.760967</td>\n",
       "      <td>2.506714</td>\n",
       "      <td>16.204118</td>\n",
       "      <td>58.504924</td>\n",
       "      <td>20.814682</td>\n",
       "    </tr>\n",
       "    <tr>\n",
       "      <th>37 a 41 semanas</th>\n",
       "      <td>0.022200</td>\n",
       "      <td>0.088798</td>\n",
       "      <td>0.013320</td>\n",
       "      <td>0.022200</td>\n",
       "      <td>0.031079</td>\n",
       "      <td>0.093238</td>\n",
       "      <td>0.199796</td>\n",
       "      <td>0.670426</td>\n",
       "      <td>6.291347</td>\n",
       "      <td>60.227323</td>\n",
       "      <td>32.340274</td>\n",
       "    </tr>\n",
       "    <tr>\n",
       "      <th>42 semanas e mais</th>\n",
       "      <td>0.143266</td>\n",
       "      <td>0.000000</td>\n",
       "      <td>0.000000</td>\n",
       "      <td>0.000000</td>\n",
       "      <td>0.000000</td>\n",
       "      <td>0.143266</td>\n",
       "      <td>0.143266</td>\n",
       "      <td>0.716332</td>\n",
       "      <td>6.303725</td>\n",
       "      <td>60.601719</td>\n",
       "      <td>31.948424</td>\n",
       "    </tr>\n",
       "  </tbody>\n",
       "</table>\n",
       "</div>"
      ],
      "text/plain": [
       "APGAR5                    0.0       1.0        2.0       3.0       4.0   \\\n",
       "GESTACAO                                                                  \n",
       "21 semanas ou menos  14.285714  0.000000  14.285714  0.000000  0.000000   \n",
       "22 a 27 semanas       8.235294  0.000000   9.411765  7.058824  1.176471   \n",
       "28 a 31 semanas       0.000000  0.000000   1.234568  0.617284  3.086420   \n",
       "32 a 36 semanas       0.089526  0.089526   0.089526  0.089526  0.358102   \n",
       "37 a 41 semanas       0.022200  0.088798   0.013320  0.022200  0.031079   \n",
       "42 semanas e mais     0.143266  0.000000   0.000000  0.000000  0.000000   \n",
       "\n",
       "APGAR5                   5.0       6.0        7.0        8.0        9.0   \\\n",
       "GESTACAO                                                                   \n",
       "21 semanas ou menos  0.000000  0.000000  14.285714   0.000000  42.857143   \n",
       "22 a 27 semanas      0.000000  2.352941  11.764706  28.235294  22.352941   \n",
       "28 a 31 semanas      4.320988  4.320988   6.790123  37.654321  33.950617   \n",
       "32 a 36 semanas      0.492390  0.760967   2.506714  16.204118  58.504924   \n",
       "37 a 41 semanas      0.093238  0.199796   0.670426   6.291347  60.227323   \n",
       "42 semanas e mais    0.143266  0.143266   0.716332   6.303725  60.601719   \n",
       "\n",
       "APGAR5                    10.0  \n",
       "GESTACAO                        \n",
       "21 semanas ou menos  14.285714  \n",
       "22 a 27 semanas       9.411765  \n",
       "28 a 31 semanas       8.024691  \n",
       "32 a 36 semanas      20.814682  \n",
       "37 a 41 semanas      32.340274  \n",
       "42 semanas e mais    31.948424  "
      ]
     },
     "execution_count": 156,
     "metadata": {},
     "output_type": "execute_result"
    }
   ],
   "source": [
    "pct"
   ]
  },
  {
   "cell_type": "code",
   "execution_count": 157,
   "metadata": {},
   "outputs": [],
   "source": [
    "data = pct.transpose()"
   ]
  },
  {
   "cell_type": "code",
   "execution_count": 158,
   "metadata": {
    "scrolled": true
   },
   "outputs": [
    {
     "data": {
      "text/html": [
       "<div>\n",
       "<style scoped>\n",
       "    .dataframe tbody tr th:only-of-type {\n",
       "        vertical-align: middle;\n",
       "    }\n",
       "\n",
       "    .dataframe tbody tr th {\n",
       "        vertical-align: top;\n",
       "    }\n",
       "\n",
       "    .dataframe thead th {\n",
       "        text-align: right;\n",
       "    }\n",
       "</style>\n",
       "<table border=\"1\" class=\"dataframe\">\n",
       "  <thead>\n",
       "    <tr style=\"text-align: right;\">\n",
       "      <th>GESTACAO</th>\n",
       "      <th>21 semanas ou menos</th>\n",
       "      <th>22 a 27 semanas</th>\n",
       "      <th>28 a 31 semanas</th>\n",
       "      <th>32 a 36 semanas</th>\n",
       "      <th>37 a 41 semanas</th>\n",
       "      <th>42 semanas e mais</th>\n",
       "    </tr>\n",
       "    <tr>\n",
       "      <th>APGAR5</th>\n",
       "      <th></th>\n",
       "      <th></th>\n",
       "      <th></th>\n",
       "      <th></th>\n",
       "      <th></th>\n",
       "      <th></th>\n",
       "    </tr>\n",
       "  </thead>\n",
       "  <tbody>\n",
       "    <tr>\n",
       "      <th>0.0</th>\n",
       "      <td>14.285714</td>\n",
       "      <td>8.235294</td>\n",
       "      <td>0.000000</td>\n",
       "      <td>0.089526</td>\n",
       "      <td>0.022200</td>\n",
       "      <td>0.143266</td>\n",
       "    </tr>\n",
       "    <tr>\n",
       "      <th>1.0</th>\n",
       "      <td>0.000000</td>\n",
       "      <td>0.000000</td>\n",
       "      <td>0.000000</td>\n",
       "      <td>0.089526</td>\n",
       "      <td>0.088798</td>\n",
       "      <td>0.000000</td>\n",
       "    </tr>\n",
       "    <tr>\n",
       "      <th>2.0</th>\n",
       "      <td>14.285714</td>\n",
       "      <td>9.411765</td>\n",
       "      <td>1.234568</td>\n",
       "      <td>0.089526</td>\n",
       "      <td>0.013320</td>\n",
       "      <td>0.000000</td>\n",
       "    </tr>\n",
       "    <tr>\n",
       "      <th>3.0</th>\n",
       "      <td>0.000000</td>\n",
       "      <td>7.058824</td>\n",
       "      <td>0.617284</td>\n",
       "      <td>0.089526</td>\n",
       "      <td>0.022200</td>\n",
       "      <td>0.000000</td>\n",
       "    </tr>\n",
       "    <tr>\n",
       "      <th>4.0</th>\n",
       "      <td>0.000000</td>\n",
       "      <td>1.176471</td>\n",
       "      <td>3.086420</td>\n",
       "      <td>0.358102</td>\n",
       "      <td>0.031079</td>\n",
       "      <td>0.000000</td>\n",
       "    </tr>\n",
       "    <tr>\n",
       "      <th>5.0</th>\n",
       "      <td>0.000000</td>\n",
       "      <td>0.000000</td>\n",
       "      <td>4.320988</td>\n",
       "      <td>0.492390</td>\n",
       "      <td>0.093238</td>\n",
       "      <td>0.143266</td>\n",
       "    </tr>\n",
       "    <tr>\n",
       "      <th>6.0</th>\n",
       "      <td>0.000000</td>\n",
       "      <td>2.352941</td>\n",
       "      <td>4.320988</td>\n",
       "      <td>0.760967</td>\n",
       "      <td>0.199796</td>\n",
       "      <td>0.143266</td>\n",
       "    </tr>\n",
       "    <tr>\n",
       "      <th>7.0</th>\n",
       "      <td>14.285714</td>\n",
       "      <td>11.764706</td>\n",
       "      <td>6.790123</td>\n",
       "      <td>2.506714</td>\n",
       "      <td>0.670426</td>\n",
       "      <td>0.716332</td>\n",
       "    </tr>\n",
       "    <tr>\n",
       "      <th>8.0</th>\n",
       "      <td>0.000000</td>\n",
       "      <td>28.235294</td>\n",
       "      <td>37.654321</td>\n",
       "      <td>16.204118</td>\n",
       "      <td>6.291347</td>\n",
       "      <td>6.303725</td>\n",
       "    </tr>\n",
       "    <tr>\n",
       "      <th>9.0</th>\n",
       "      <td>42.857143</td>\n",
       "      <td>22.352941</td>\n",
       "      <td>33.950617</td>\n",
       "      <td>58.504924</td>\n",
       "      <td>60.227323</td>\n",
       "      <td>60.601719</td>\n",
       "    </tr>\n",
       "    <tr>\n",
       "      <th>10.0</th>\n",
       "      <td>14.285714</td>\n",
       "      <td>9.411765</td>\n",
       "      <td>8.024691</td>\n",
       "      <td>20.814682</td>\n",
       "      <td>32.340274</td>\n",
       "      <td>31.948424</td>\n",
       "    </tr>\n",
       "  </tbody>\n",
       "</table>\n",
       "</div>"
      ],
      "text/plain": [
       "GESTACAO  21 semanas ou menos  22 a 27 semanas  28 a 31 semanas  \\\n",
       "APGAR5                                                            \n",
       "0.0                 14.285714         8.235294         0.000000   \n",
       "1.0                  0.000000         0.000000         0.000000   \n",
       "2.0                 14.285714         9.411765         1.234568   \n",
       "3.0                  0.000000         7.058824         0.617284   \n",
       "4.0                  0.000000         1.176471         3.086420   \n",
       "5.0                  0.000000         0.000000         4.320988   \n",
       "6.0                  0.000000         2.352941         4.320988   \n",
       "7.0                 14.285714        11.764706         6.790123   \n",
       "8.0                  0.000000        28.235294        37.654321   \n",
       "9.0                 42.857143        22.352941        33.950617   \n",
       "10.0                14.285714         9.411765         8.024691   \n",
       "\n",
       "GESTACAO  32 a 36 semanas  37 a 41 semanas  42 semanas e mais  \n",
       "APGAR5                                                         \n",
       "0.0              0.089526         0.022200           0.143266  \n",
       "1.0              0.089526         0.088798           0.000000  \n",
       "2.0              0.089526         0.013320           0.000000  \n",
       "3.0              0.089526         0.022200           0.000000  \n",
       "4.0              0.358102         0.031079           0.000000  \n",
       "5.0              0.492390         0.093238           0.143266  \n",
       "6.0              0.760967         0.199796           0.143266  \n",
       "7.0              2.506714         0.670426           0.716332  \n",
       "8.0             16.204118         6.291347           6.303725  \n",
       "9.0             58.504924        60.227323          60.601719  \n",
       "10.0            20.814682        32.340274          31.948424  "
      ]
     },
     "execution_count": 158,
     "metadata": {},
     "output_type": "execute_result"
    }
   ],
   "source": [
    "data"
   ]
  },
  {
   "cell_type": "markdown",
   "metadata": {},
   "source": [
    "####  6) Os médicos costumam classificar parto prematuro quando a gestação tem menos que 37 semanas. Faça um gráfico de barras da tabela cruzada acima e conclua se você acha que este conjunto de dados corrobora ou não com a afirmação dos médicos."
   ]
  },
  {
   "cell_type": "markdown",
   "metadata": {},
   "source": [
    "No gráfico abaixo fica evidente que asfixias anormais entre 0.0 à 7.0 possuem umm grande relação com gestações de 37 semanas ou menos;\n",
    "Note que as cores: Azul, Laranja, Verde e um pouco do Vermelho são as relações de prematuros com o APGAR de 0.0 a 7.0"
   ]
  },
  {
   "cell_type": "code",
   "execution_count": 164,
   "metadata": {},
   "outputs": [
    {
     "data": {
      "text/plain": [
       "Text(0, 0.5, 'Quantidade de Ocorrências')"
      ]
     },
     "execution_count": 164,
     "metadata": {},
     "output_type": "execute_result"
    },
    {
     "data": {
      "image/png": "[encoded data removed]",
      "text/plain": [
       "<Figure size 640x480 with 1 Axes>"
      ]
     },
     "metadata": {},
     "output_type": "display_data"
    }
   ],
   "source": [
    "data.plot(kind='bar')\n",
    "\n",
    "plt.title('Comparação entre Gestação e APGAR')\n",
    "plt.ylabel('Quantidade de Ocorrências')"
   ]
  },
  {
   "cell_type": "markdown",
   "metadata": {},
   "source": []
  },
  {
   "cell_type": "markdown",
   "metadata": {},
   "source": [
    "#### 7) Veja se há relação entre APGAR5 e o peso do bebê. Isso pode ser feito de diversas formas. Fique à vontade para escolher a melhor maneira na sua opinião, ou até testar mais de um dos gráficos que vimos. Fique à vontade também para consultar a documentação e utilizar algum outro recurso se achar conveniente."
   ]
  },
  {
   "cell_type": "markdown",
   "metadata": {},
   "source": [
    "Emnbora eu esteja ciente de que existam outros métodos, eu preferi simplicar a abordagem dado o meu atual nível de compreensão.\n",
    "Desta forma, construi um novo DF com o método reset_index().\n",
    "Agrupei a coluna APGAR5 - método groupby -  à média - mean() - da coluna PESO. "
   ]
  },
  {
   "cell_type": "code",
   "execution_count": 194,
   "metadata": {},
   "outputs": [],
   "source": [
    "media_peso = df.groupby('APGAR5')['PESO'].mean().reset_index()\n"
   ]
  },
  {
   "cell_type": "code",
   "execution_count": 195,
   "metadata": {},
   "outputs": [
    {
     "data": {
      "text/html": [
       "<div>\n",
       "<style scoped>\n",
       "    .dataframe tbody tr th:only-of-type {\n",
       "        vertical-align: middle;\n",
       "    }\n",
       "\n",
       "    .dataframe tbody tr th {\n",
       "        vertical-align: top;\n",
       "    }\n",
       "\n",
       "    .dataframe thead th {\n",
       "        text-align: right;\n",
       "    }\n",
       "</style>\n",
       "<table border=\"1\" class=\"dataframe\">\n",
       "  <thead>\n",
       "    <tr style=\"text-align: right;\">\n",
       "      <th></th>\n",
       "      <th>APGAR5</th>\n",
       "      <th>PESO</th>\n",
       "    </tr>\n",
       "  </thead>\n",
       "  <tbody>\n",
       "    <tr>\n",
       "      <th>0</th>\n",
       "      <td>0.0</td>\n",
       "      <td>1674.058824</td>\n",
       "    </tr>\n",
       "    <tr>\n",
       "      <th>1</th>\n",
       "      <td>1.0</td>\n",
       "      <td>2966.041667</td>\n",
       "    </tr>\n",
       "    <tr>\n",
       "      <th>2</th>\n",
       "      <td>2.0</td>\n",
       "      <td>1600.222222</td>\n",
       "    </tr>\n",
       "    <tr>\n",
       "      <th>3</th>\n",
       "      <td>3.0</td>\n",
       "      <td>1893.000000</td>\n",
       "    </tr>\n",
       "    <tr>\n",
       "      <th>4</th>\n",
       "      <td>4.0</td>\n",
       "      <td>2102.739130</td>\n",
       "    </tr>\n",
       "    <tr>\n",
       "      <th>5</th>\n",
       "      <td>5.0</td>\n",
       "      <td>2518.111111</td>\n",
       "    </tr>\n",
       "    <tr>\n",
       "      <th>6</th>\n",
       "      <td>6.0</td>\n",
       "      <td>2809.772152</td>\n",
       "    </tr>\n",
       "    <tr>\n",
       "      <th>7</th>\n",
       "      <td>7.0</td>\n",
       "      <td>2809.954357</td>\n",
       "    </tr>\n",
       "    <tr>\n",
       "      <th>8</th>\n",
       "      <td>8.0</td>\n",
       "      <td>3056.361585</td>\n",
       "    </tr>\n",
       "    <tr>\n",
       "      <th>9</th>\n",
       "      <td>9.0</td>\n",
       "      <td>3262.088082</td>\n",
       "    </tr>\n",
       "    <tr>\n",
       "      <th>10</th>\n",
       "      <td>10.0</td>\n",
       "      <td>3289.069820</td>\n",
       "    </tr>\n",
       "  </tbody>\n",
       "</table>\n",
       "</div>"
      ],
      "text/plain": [
       "    APGAR5         PESO\n",
       "0      0.0  1674.058824\n",
       "1      1.0  2966.041667\n",
       "2      2.0  1600.222222\n",
       "3      3.0  1893.000000\n",
       "4      4.0  2102.739130\n",
       "5      5.0  2518.111111\n",
       "6      6.0  2809.772152\n",
       "7      7.0  2809.954357\n",
       "8      8.0  3056.361585\n",
       "9      9.0  3262.088082\n",
       "10    10.0  3289.069820"
      ]
     },
     "execution_count": 195,
     "metadata": {},
     "output_type": "execute_result"
    }
   ],
   "source": [
    "media_peso"
   ]
  },
  {
   "cell_type": "code",
   "execution_count": 205,
   "metadata": {},
   "outputs": [
    {
     "data": {
      "text/plain": [
       "Text(0.5, 0, 'Peso em gramas')"
      ]
     },
     "execution_count": 205,
     "metadata": {},
     "output_type": "execute_result"
    },
    {
     "data": {
      "image/png": "[encoded data removed]",
      "text/plain": [
       "<Figure size 800x600 with 1 Axes>"
      ]
     },
     "metadata": {},
     "output_type": "display_data"
    }
   ],
   "source": [
    "media_peso.plot.barh(y='PESO', x='APGAR5')\n",
    "#barh - note o \"h\" para plotar gráfico na horizontal \n",
    "\n",
    "plt.title('Comparação entre APGAR5 e Peso do bebê')\n",
    "plt.xlabel('Peso em gramas')\n",
    "\n"
   ]
  },
  {
   "cell_type": "markdown",
   "metadata": {},
   "source": [
    "Mesmo que no índice 1.0 de APGAR5 tenhamos uma exceção (média de 3KG), a visualização da relação entre PESO e APGAR deixa claro que há uma grande correlação entre essas duas variáveis: Quanto menos peso ao nascer, maior a incidência de asfixia anormal( APGAR entre 0.0 e 7.0)"
   ]
  }
 ],
 "metadata": {
  "kernelspec": {
   "display_name": "Python 3 (ipykernel)",
   "language": "python",
   "name": "python3"
  },
  "language_info": {
   "codemirror_mode": {
    "name": "ipython",
    "version": 3
   },
   "file_extension": ".py",
   "mimetype": "text/x-python",
   "name": "python",
   "nbconvert_exporter": "python",
   "pygments_lexer": "ipython3",
   "version": "3.10.9"
  }
 },
 "nbformat": 4,
 "nbformat_minor": 4
}
